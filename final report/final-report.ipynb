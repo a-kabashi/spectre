{
 "cells": [
  {
   "cell_type": "markdown",
   "id": "2f2f7b75",
   "metadata": {},
   "source": [
    "# <font color='blue'> Comparative Analysis of SQL and NoSQL Databases and Performance Evaluation:\n",
    "# <div style=\"text-align:center;\"><font color='blue'>Report"
   ]
  },
  {
   "cell_type": "markdown",
   "id": "16ed76db",
   "metadata": {},
   "source": [
    "##  Introduction:"
   ]
  },
  {
   "cell_type": "markdown",
   "id": "12972c2d",
   "metadata": {},
   "source": [
    "   This study aims to carry out an examination of SQL and different types of NoSQL databases, with a particular focus on structured data storage systems such as relational databases (PostgreSQL), document-oriented databases like MongoDB and graph databases similar to Neo4j.The main goals of this study include designing, analyzing, and comparing these databases based on their data models, query languages, and overall performance attributes."
   ]
  },
  {
   "cell_type": "markdown",
   "id": "dcbebcc2",
   "metadata": {},
   "source": [
    "##  The Data Generated:"
   ]
  },
  {
   "cell_type": "markdown",
   "id": "1641748a",
   "metadata": {},
   "source": [
    "The data generated is for a secret organization called Spectre. The data is sourced from Mockaroo https://www.mockaroo.com/ in SQL format, that maintains information about:\n",
    "1- Secret <font color='green'>agents<font color='black'>.\n",
    "2- The <font color='green'>agent<font color='black'>'s used secret identities.\n",
    "3- The agents's different <font color='green'>contacts<font color='black'>.\n",
    "4- The conducted <font color='green'>missions<font color='black'>.\n",
    "5- The <font color='green'>targets<font color='black'> of the missions.\n",
    "6- The used <font color='green'>assets<font color='black'> in the missions.\n",
    "7- And the agent's <font color='green'>skills<font color='black'> is generated manually.\n",
    " "
   ]
  },
  {
   "cell_type": "markdown",
   "id": "c8420d37",
   "metadata": {},
   "source": [
    "## The data Models:"
   ]
  },
  {
   "cell_type": "markdown",
   "id": "f7a130fe",
   "metadata": {},
   "source": [
    "### 1- Structured data storage systems (PostgreSQL):"
   ]
  },
  {
   "cell_type": "markdown",
   "id": "22e961e8",
   "metadata": {},
   "source": [
    "The used modeling tool for the relational database is ERDplus https://erdplus.com/."
   ]
  },
  {
   "cell_type": "markdown",
   "id": "9b62b99c",
   "metadata": {},
   "source": [
    "![Local Image](ER-diagram.png)\n",
    "### <div style=\"text-align:center;\"><font color='Blue'>ER Diagram"
   ]
  },
  {
   "cell_type": "markdown",
   "id": "de35cfb1",
   "metadata": {},
   "source": [
    "![Local Image](relational-schema.png)\n",
    "### <div style=\"text-align:center;\"><font color='blue'>Relational Schema"
   ]
  },
  {
   "cell_type": "markdown",
   "id": "bd602618",
   "metadata": {},
   "source": [
    "### 2- Document-oriented databases (MongoDB):"
   ]
  },
  {
   "cell_type": "markdown",
   "id": "3b896e4c",
   "metadata": {},
   "source": [
    "The used modeling tool for MongoDB database is Moon modeler https://www.datensen.com/data-modeling/moon-modeler-for-databases.html"
   ]
  },
  {
   "cell_type": "markdown",
   "id": "0831ecc7",
   "metadata": {},
   "source": [
    "![Local Image](Mongodb-schema.png)\n",
    "### <div style=\"text-align:center;\"><font color='blue'>MongoDB Schema"
   ]
  },
  {
   "cell_type": "markdown",
   "id": "620a856c",
   "metadata": {},
   "source": [
    "### 3- Graph databases (Neo4j):"
   ]
  },
  {
   "cell_type": "markdown",
   "id": "567f80ee",
   "metadata": {},
   "source": [
    "The used modeling tool for Neo4j database is Neo4j command (CALL apoc.meta.graph) in Neo4j."
   ]
  },
  {
   "cell_type": "markdown",
   "id": "5ad2c7d0",
   "metadata": {},
   "source": [
    "![Local Image](neo4j-schema.png)\n",
    "### <div style=\"text-align:center;\"><font color='blue'>Neo4j Schema"
   ]
  },
  {
   "cell_type": "markdown",
   "id": "41ae071e",
   "metadata": {},
   "source": [
    "## Populating Data process:"
   ]
  },
  {
   "cell_type": "markdown",
   "id": "6495c420",
   "metadata": {},
   "source": [
    "### 1- PostgreSQL:"
   ]
  },
  {
   "cell_type": "markdown",
   "id": "69489cb1",
   "metadata": {},
   "source": [
    "For PostgreSQL the process of populating the data is done directly using the generated data from Mockaroo in SQL format. in (.txt) format in the attached file.<font color='brown'>\n",
    "1- agents_data (10000 insertion, 14 update).\n",
    "2- assets_data (60000 insertion, one update).\n",
    "3- contacts data (10004 insertion).\n",
    "4- has_data (10174 insertion).\n",
    "5- missions_data (10000 insertion, one update).\n",
    "6- participate_in_data (40011 insertion).\n",
    "7- SIDs_data (10008 insertion).\n",
    "8- skills_data (197 insertion).\n",
    "9- targets_data (10000 insertion and 10000 update).\n",
    "10- used_in_data (40042 insertion).\n"
   ]
  },
  {
   "cell_type": "markdown",
   "id": "1e92194d",
   "metadata": {},
   "source": [
    "### 2- MongoDB:"
   ]
  },
  {
   "cell_type": "markdown",
   "id": "68856d76",
   "metadata": {},
   "source": [
    "To populate the data in MongoDB database, Python is used to query the data from PostgreSQL tables and populate MongoDB database."
   ]
  },
  {
   "cell_type": "markdown",
   "id": "1aadae05",
   "metadata": {},
   "source": [
    "#### PostgreSQL and MongoDB Connection Setup:"
   ]
  },
  {
   "cell_type": "code",
   "execution_count": null,
   "id": "c6d9ccd4",
   "metadata": {},
   "outputs": [],
   "source": [
    "# NOTE: don't forget to close the connection at the end.\n",
    "# to close the connection the commands are at the end of the queries section.\n",
    "# for PostgreSQL, MongoDB, and Neo4j\n",
    "# conn.close()\n",
    "# client.close()\n",
    "# driver.close()\n",
    "#\n",
    "#\n",
    "import psycopg2\n",
    "import pymongo\n",
    "from pymongo import MongoClient\n",
    "import datetime\n",
    "\n",
    "# postgres connection\n",
    "conn = psycopg2.connect(\n",
    "    dbname=\"spectre\",\n",
    "    user=\"postgres\",\n",
    "    password=\"*******\",\n",
    "    host=\"localhost\",\n",
    "    port=\"5432\"\n",
    ")\n",
    "\n",
    "# Mongodb connection\n",
    "client = MongoClient(\"mongodb+srv://ak:<password>@cluster0.jscsiwg.mongodb.net/\")\n",
    "db = client.Spectre\n",
    "agents = db.agents\n",
    "assets = db.assets\n",
    "missions = db.missions\n",
    "targets = db.targets"
   ]
  },
  {
   "cell_type": "markdown",
   "id": "672cc065",
   "metadata": {},
   "source": [
    "#### <font color='brown'>a- agents information:"
   ]
  },
  {
   "cell_type": "code",
   "execution_count": null,
   "id": "ad7d785b",
   "metadata": {},
   "outputs": [],
   "source": [
    "query = \"SELECT * FROM agents\"\n",
    "cur = conn.cursor()\n",
    "cur.execute(query)\n",
    "rows = cur.fetchall()\n",
    "\n",
    "for row in rows:\n",
    "    doc = {\n",
    "           \"acode\": row[0], \"fname\": row[1], \"lname\": row[2], \"dob\": f'{row[3].year}-{row[3].month}-{row[3].day}',\n",
    "            \"gender\": row[4], \"nationality\": row[5], \"security_level\": row[6], \"agent_type\": row[7], \"agent_status\": row[8]\n",
    "          }\n",
    "    agents.insert_one(doc)                                                       \n",
    "\n",
    "cur.close()"
   ]
  },
  {
   "cell_type": "markdown",
   "id": "3d05cb5e",
   "metadata": {},
   "source": [
    "#### <font color='brown'>b- agents contacts:"
   ]
  },
  {
   "cell_type": "code",
   "execution_count": null,
   "id": "6c642835",
   "metadata": {},
   "outputs": [],
   "source": [
    "i = 0\n",
    "\n",
    "while i <= 10000:\n",
    "    query = f\"SELECT * FROM contacts where acode = {i}\"\n",
    "    cur = conn.cursor()\n",
    "    cur.execute(query)\n",
    "    rows = cur.fetchall()\n",
    "    contacts = []\n",
    "\n",
    "    for row in rows:\n",
    "        filter_criteria = {\"acode\": row[0]}\n",
    "\n",
    "        if row[7]:\n",
    "            doc = {\n",
    "                   \"phone\": row[1], \"email\": row[2], \"address_line 1\": row[3], \"city\": row[4],\n",
    "                   \"country\": row[5], \"from_date\": f'{row[6].year}-{row[6].month}-{row[6].day}',\n",
    "                   \"to_date\": f'{row[7].year}-{row[7].month}-{row[7].day}'\n",
    "                  }\n",
    "            contacts.append(doc)\n",
    "        else:\n",
    "            doc = {\n",
    "                   \"phone\": row[1], \"email\": row[2], \"address_line 1\": row[3], \"city\": row[4],\n",
    "                   \"country\": row[5], \"from_date\": f'{row[6].year}-{row[6].month}-{row[6].day}',\n",
    "                   \"to_date\": row[7]\n",
    "                  }\n",
    "            contacts.append(doc)\n",
    "        \n",
    "    if contacts:\n",
    "        new_contacts = {\"$set\": {'contacts': contacts}}\n",
    "        agents.update_one(filter_criteria, new_contacts)\n",
    "\n",
    "    i = i+1\n",
    "\n",
    "cur.close()"
   ]
  },
  {
   "cell_type": "markdown",
   "id": "055cbe5b",
   "metadata": {},
   "source": [
    "#### <font color='brown'>c- agents SIDs:"
   ]
  },
  {
   "cell_type": "code",
   "execution_count": null,
   "id": "830996c8",
   "metadata": {},
   "outputs": [],
   "source": [
    "acode = 0\n",
    "\n",
    "while acode <= 10000:\n",
    "    query = f\"select * from secret_identities where acode = {acode}\"\n",
    "    cur = conn.cursor()\n",
    "    cur.execute(query)\n",
    "    rows = cur.fetchall()\n",
    "    sids = []\n",
    "\n",
    "    for row in rows:\n",
    "        filter_criteria = {\"acode\": acode}\n",
    "        doc = {'sid': row[0], 'sid_type': row[1], 'sid_nationality': row[2], 'sid_other_details': row[3],\n",
    "               'sid_status': row[4], 'sid_issue_date': f'{row[5].year}-{row[5].month}-{row[5].day}', \n",
    "               'sid_exp_date': f'{row[6].year}-{row[6].month}-{row[6].day}'\n",
    "              }\n",
    "        sids.append(doc)\n",
    "\n",
    "        if sids:\n",
    "            new_sids = {\"$set\": {'secret_identities': sids}}\n",
    "            agents.update_one(filter_criteria, new_sids)\n",
    "            \n",
    "    acode = acode+1\n",
    "    \n",
    "cur.close()"
   ]
  },
  {
   "cell_type": "markdown",
   "id": "91fe7190",
   "metadata": {},
   "source": [
    "#### <font color='brown'>d- agents skills:"
   ]
  },
  {
   "cell_type": "code",
   "execution_count": null,
   "id": "c3dcfc02",
   "metadata": {},
   "outputs": [],
   "source": [
    "acode = 0\n",
    "\n",
    "while acode <= 10000:\n",
    "    query = f\"select skills.skill_type,skills.skill_level from has inner join skills on has.skill_code = skills.skill_code where has.acode = {acode}\"\n",
    "    cur = conn.cursor()\n",
    "    cur.execute(query)\n",
    "    rows = cur.fetchall()\n",
    "    skills = []\n",
    "\n",
    "    for row in rows:\n",
    "        filter_criteria = {\"acode\": acode}\n",
    "        doc = {'skill_type': row[0], 'skill_level': row[1]}\n",
    "        skills.append(doc)\n",
    "\n",
    "        if skills:\n",
    "            new_skills = {\"$set\": {'skills': skills}}\n",
    "            agents.update_one(filter_criteria, new_skills)\n",
    "            \n",
    "    acode = acode+1\n",
    "    \n",
    "cur.close()"
   ]
  },
  {
   "cell_type": "markdown",
   "id": "4de70f7e",
   "metadata": {},
   "source": [
    "#### <font color='brown'>e- assets information:"
   ]
  },
  {
   "cell_type": "code",
   "execution_count": null,
   "id": "412f240b",
   "metadata": {},
   "outputs": [],
   "source": [
    "query = \"SELECT * FROM assets\"\n",
    "cur = conn.cursor()\n",
    "cur.execute(query)\n",
    "rows = cur.fetchall()\n",
    "\n",
    "for row in rows:\n",
    "    doc = {\"asid\": row[0], \"astype\": row[1], \"asmake\": row[2],\"asmodel\": row[3], \"astag\": row[4],\"asstatus\": row[5]}\n",
    "    assets.insert_one(doc)\n",
    "\n",
    "cur.close()"
   ]
  },
  {
   "cell_type": "markdown",
   "id": "93c281a4",
   "metadata": {},
   "source": [
    "#### <font color='brown'>f- missions information:"
   ]
  },
  {
   "cell_type": "code",
   "execution_count": null,
   "id": "0cd476b5",
   "metadata": {},
   "outputs": [],
   "source": [
    "query = \"SELECT * FROM missions\"\n",
    "cur = conn.cursor()\n",
    "cur.execute(query)\n",
    "rows = cur.fetchall()\n",
    "\n",
    "for row in rows:\n",
    "    doc = {\n",
    "           'mid': row[0], 'general_description': row[1], 'city': row[2], 'country': row[3], \n",
    "           'start_date': f'{row[4].year}-{row[4].month}-{row[4].day}',\n",
    "           'end_date': f'{row[5].year}-{row[5].month}-{row[5].day}',\n",
    "           'mstatus': row[6], 'tid': row[7]\n",
    "          }\n",
    "    missions.insert_one(doc)                                                       \n",
    "\n",
    "cur.close()"
   ]
  },
  {
   "cell_type": "markdown",
   "id": "77bfe783",
   "metadata": {},
   "source": [
    "#### <font color='brown'>g- missions agents:"
   ]
  },
  {
   "cell_type": "code",
   "execution_count": null,
   "id": "fb88aaab",
   "metadata": {},
   "outputs": [],
   "source": [
    "i = 0\n",
    "\n",
    "while i <= 10000:\n",
    "    query = f\"SELECT * FROM participate_in where mid = {i}\"\n",
    "    cur = conn.cursor()\n",
    "    cur.execute(query)\n",
    "    rows = cur.fetchall()\n",
    "    agents = []\n",
    "\n",
    "    for row in rows:\n",
    "        filter_criteria = {\"mid\": row[1]}\n",
    "        agents.append(row[0])\n",
    "\n",
    "    if agents:\n",
    "        mission_agents = {\"$set\": {'agents': agents}}\n",
    "        missions.update_one(filter_criteria, mission_agents)\n",
    "    i = i+1\n",
    "\n",
    "cur.close()"
   ]
  },
  {
   "cell_type": "markdown",
   "id": "35e42221",
   "metadata": {},
   "source": [
    "#### <font color='brown'>h- missions assets:"
   ]
  },
  {
   "cell_type": "code",
   "execution_count": null,
   "id": "8db463ca",
   "metadata": {},
   "outputs": [],
   "source": [
    "i = 0\n",
    "\n",
    "while i <= 10000:\n",
    "    query = f\"SELECT * FROM used_in where mid = {i}\"\n",
    "    cur = conn.cursor()\n",
    "    cur.execute(query)\n",
    "    rows = cur.fetchall()\n",
    "    assets = []\n",
    "\n",
    "    for row in rows:\n",
    "        filter_criteria = {\"mid\": row[1]}\n",
    "        assets.append(row[0])\n",
    "\n",
    "    if assets:\n",
    "        mission_assets = {\"$set\": {'assets': assets}}\n",
    "        missions.update_one(filter_criteria, mission_assets)\n",
    "\n",
    "    i = i+1\n",
    "\n",
    "cur.close()"
   ]
  },
  {
   "cell_type": "markdown",
   "id": "05be6e14",
   "metadata": {},
   "source": [
    "#### <font color='brown'>i- targets information:"
   ]
  },
  {
   "cell_type": "code",
   "execution_count": null,
   "id": "6a449ce0",
   "metadata": {},
   "outputs": [],
   "source": [
    "query = \"SELECT * FROM targets\"\n",
    "cur = conn.cursor()\n",
    "cur.execute(query)\n",
    "rows = cur.fetchall()\n",
    "\n",
    "for row in rows:\n",
    "    doc = {\"tid\": row[0], \"ttype\": row[1], \"tdescription\": row[2]}\n",
    "    targets.insert_one(doc)\n",
    "\n",
    "cur.close()"
   ]
  },
  {
   "cell_type": "markdown",
   "id": "72c1ffbe",
   "metadata": {},
   "source": [
    "### 2- Neo4j:"
   ]
  },
  {
   "cell_type": "markdown",
   "id": "ab4351e7",
   "metadata": {},
   "source": [
    "To populate the data in Neo4j, Python is used to query the data from MongoDB database and populate it in Neo4j database."
   ]
  },
  {
   "cell_type": "markdown",
   "id": "863bb14f",
   "metadata": {},
   "source": [
    "#### Neo4j Connection Setup:"
   ]
  },
  {
   "cell_type": "code",
   "execution_count": null,
   "id": "23300f1e",
   "metadata": {},
   "outputs": [],
   "source": [
    "# NOTE: don't forget to close the connection at the end.\n",
    "# to close the connection the commands are at the end of the queries section.\n",
    "# for PostgreSQL, MongoDB, and Neo4j\n",
    "# conn.close()\n",
    "# client.close()\n",
    "# driver.close()\n",
    "#\n",
    "#\n",
    "from neo4j import GraphDatabase\n",
    "\n",
    "#Neo4j connection\n",
    "#\n",
    "#\n",
    "#Define the URI, username, and password for your Neo4j database\n",
    "uri = \"bolt://localhost:7687\"\n",
    "username = \"neo4j\"\n",
    "password = \"*******\"\n",
    "\n",
    "# Create a connection to the database\n",
    "driver = GraphDatabase.driver(uri, auth=(username, password))"
   ]
  },
  {
   "cell_type": "code",
   "execution_count": null,
   "id": "3972dc17",
   "metadata": {},
   "outputs": [],
   "source": [
    "# Function for Neo4j run()\n",
    "    \n",
    "def run_query(query):\n",
    "    with driver.session() as session:\n",
    "        result = session.run(query)\n",
    "        return result"
   ]
  },
  {
   "cell_type": "markdown",
   "id": "b54a0b50",
   "metadata": {},
   "source": [
    "#### <font color='orange'>a- agents information:"
   ]
  },
  {
   "cell_type": "code",
   "execution_count": null,
   "id": "e2e216cd",
   "metadata": {},
   "outputs": [],
   "source": [
    "# retrieve the data from Mongodb DB\n",
    "docs = agents.find()\n",
    "\n",
    "for document in docs:\n",
    "    query = '''MERGE\n",
    "                (a:Agent {acode: $acode, fname: $fname, lname: $lname,\n",
    "                dob: $dob, gender: $gender, nationality: $nationality,\n",
    "                security_level: $security_level, agent_type: $agent_type, agent_status: $agent_status});\n",
    "            '''\n",
    "    para = {\n",
    "            'acode':document['acode'], 'fname': document['fname'], 'lname': document['lname'], 'dob': document['dob'],\n",
    "            'gender': document['gender'], 'nationality': document['nationality'],\n",
    "            'security_level': document['security_level'], 'agent_type': document['agent_type'], 'agent_status': document['agent_status']\n",
    "           }\n",
    "    print(run_query(query,para))"
   ]
  },
  {
   "cell_type": "markdown",
   "id": "59d97446",
   "metadata": {},
   "source": [
    "#### <font color='orange'>b- agents contacts:"
   ]
  },
  {
   "cell_type": "code",
   "execution_count": null,
   "id": "19ba4879",
   "metadata": {},
   "outputs": [],
   "source": [
    "# retrieve the data from Mongodb DB\n",
    "docs = agents.find(projection=projection)\n",
    "projection = {'acode' : 1, 'contacts': 1}\n",
    "\n",
    "for doc in docs:\n",
    "    if \"contacts\" in doc:\n",
    "        for s in doc['contacts']:\n",
    "            query = '''\n",
    "                MATCH (a:Agent{acode: $acode})\n",
    "                MERGE (a)-[r:contacts]->(s:agentContacts{\n",
    "                    phone: $phone,\n",
    "                    email: $email,\n",
    "                    address_line_1: $address_line_1,\n",
    "                    city: $city,\n",
    "                    country: $country,\n",
    "                    from_date: $from_date,\n",
    "                    to_date: $to_date\n",
    "                })\n",
    "                RETURN a, r, s\n",
    "            '''\n",
    "            para = {\n",
    "                'acode': doc['acode'],\n",
    "                'phone': s['phone'],\n",
    "                'email': s['email'],\n",
    "                'address_line_1': s['address_line 1'],\n",
    "                'city': s['city'],\n",
    "                'country': s['country'],\n",
    "                'from_date': s['from_date'],\n",
    "                'to_date': s['to_date']\n",
    "            }\n",
    "\n",
    "            print(run_query(query,para))"
   ]
  },
  {
   "cell_type": "markdown",
   "id": "4d280a29",
   "metadata": {},
   "source": [
    "#### <font color='orange'>c- agents SIDs:"
   ]
  },
  {
   "cell_type": "code",
   "execution_count": null,
   "id": "3f495df3",
   "metadata": {},
   "outputs": [],
   "source": [
    "# retrieve the data from Mongodb DB\n",
    "docs = agents.find(projection=projection)\n",
    "projection = {'acode' : 1, 'secret_identities': 1}\n",
    "\n",
    "for doc in docs:\n",
    "    if \"secret_identities\" in doc:\n",
    "        for s in doc['secret_identities']:\n",
    "            query = '''\n",
    "                MATCH (a:Agent{acode: $acode})\n",
    "                MERGE (a)-[r:HasSid]->(s:SecretIdentities{\n",
    "                    sid: $sid,\n",
    "                    sid_type: $sid_type,\n",
    "                    sid_nationality: $sid_nationality,\n",
    "                    sid_other_details: $sid_other_details,\n",
    "                    sid_status: $sid_status,\n",
    "                    sid_issue_date: $sid_issue_date,\n",
    "                    sid_exp_date: $sid_exp_date\n",
    "                })\n",
    "                RETURN a, r, s\n",
    "            '''\n",
    "            para = {\n",
    "                'acode': doc['acode'],\n",
    "                'sid': s['sid'],\n",
    "                'sid_type': s['sid_type'],\n",
    "                'sid_nationality': s['sid_nationality'],\n",
    "                'sid_other_details': s['sid_other_details'],\n",
    "                'sid_status': s['sid_status'],\n",
    "                'sid_issue_date': s['sid_issue_date'],\n",
    "                'sid_exp_date': s['sid_exp_date']\n",
    "            }\n",
    "\n",
    "\n",
    "            print(run_query(query,para))"
   ]
  },
  {
   "cell_type": "markdown",
   "id": "d095106a",
   "metadata": {},
   "source": [
    "#### <font color='orange'>d- agents skills:"
   ]
  },
  {
   "cell_type": "code",
   "execution_count": null,
   "id": "ccd6c029",
   "metadata": {},
   "outputs": [],
   "source": [
    "# retrieve the data from Mongodb DB\n",
    "docs = agents.find(projection=projection)\n",
    "projection = {'acode' : 1, 'skills': 1}\n",
    "\n",
    "for doc in docs:\n",
    "    if \"skills\" in doc:\n",
    "        #print(doc[\"acode\"])\n",
    "        for s in doc['skills']:\n",
    "            query = '''\n",
    "                           MATCH (a:Agent{acode:$acode})\n",
    "                           MERGE (a)-[r:has{skill_type: $skill_type, skill_level: $skill_level}]->(s:skill)\n",
    "                           RETURN a, r, s\n",
    "                    ''' \n",
    "            para = {'acode': doc['acode'], 'skill_type': s['skill_type'], 'skill_level': s['skill_level']}\n",
    "            print(run_query(query,para))"
   ]
  },
  {
   "cell_type": "markdown",
   "id": "d4680fe8",
   "metadata": {},
   "source": [
    "#### <font color='orange'>e- assets:"
   ]
  },
  {
   "cell_type": "code",
   "execution_count": null,
   "id": "0c288380",
   "metadata": {},
   "outputs": [],
   "source": [
    "# retrieve the data from Mongodb DB\n",
    "docs = assets.find()\n",
    "\n",
    "for doc in docs:\n",
    "    query = '''\n",
    "                MERGE (a:assets{\n",
    "                    asid: $asid,\n",
    "                    astype: $astype,\n",
    "                    asmake: $asmake,\n",
    "                    asmodel: $asmodel,\n",
    "                    astag: $astag,\n",
    "                    asstatus: $asstatus\n",
    "                })\n",
    "                RETURN a\n",
    "            '''\n",
    "    para = {\n",
    "                'asid': doc['asid'],\n",
    "                'astype': doc['astype'],\n",
    "                'asmake': doc['asmake'],\n",
    "                'asmodel': doc['asmodel'],\n",
    "                'astag': doc['astag'],\n",
    "                'asstatus': doc['asstatus']\n",
    "            }\n",
    "    print(run_query(query,para))"
   ]
  },
  {
   "cell_type": "markdown",
   "id": "eba49d62",
   "metadata": {},
   "source": [
    "#### <font color='orange'>f- missions information:"
   ]
  },
  {
   "cell_type": "code",
   "execution_count": null,
   "id": "b6edc268",
   "metadata": {},
   "outputs": [],
   "source": [
    "# retrieve the data from Mongodb DB\n",
    "docs = missions.find()\n",
    "\n",
    "for doc in docs:\n",
    "    query = '''\n",
    "                MERGE (m:missions{\n",
    "                    mid: $mid,\n",
    "                    general_description: $general_description,\n",
    "                    city: $city,\n",
    "                    country: $country,\n",
    "                    start_date: $start_date,\n",
    "                    end_date: $end_date,\n",
    "                    mstatus: $mstatus\n",
    "                })\n",
    "                RETURN m\n",
    "            '''\n",
    "    para = {\n",
    "                'mid': doc['mid'],\n",
    "                'general_description': doc['general_description'],\n",
    "                'city': doc['city'],\n",
    "                'country': doc['country'],\n",
    "                'start_date': doc['start_date'],\n",
    "                'end_date': doc['end_date'],\n",
    "                'mstatus': doc['mstatus']\n",
    "            }\n",
    "\n",
    "    print(run_query(query,para))"
   ]
  },
  {
   "cell_type": "markdown",
   "id": "978a595e",
   "metadata": {},
   "source": [
    "#### <font color='orange'>g- targets:"
   ]
  },
  {
   "cell_type": "code",
   "execution_count": null,
   "id": "8b9eaf38",
   "metadata": {},
   "outputs": [],
   "source": [
    "# retrieve the data from Mongodb DB\n",
    "docs = targets.find()\n",
    "\n",
    "for doc in docs:\n",
    "    query = '''\n",
    "                MERGE (t:targets{\n",
    "                    tid: $tid,\n",
    "                    ttype: $ttype,\n",
    "                    tdescription: $tdescription\n",
    "                })\n",
    "                RETURN t\n",
    "            '''\n",
    "    para = {\n",
    "                'tid': doc['tid'],\n",
    "                'ttype': doc['ttype'],\n",
    "                'tdescription': doc['tdescription']\n",
    "            }\n",
    "\n",
    "    print(run_query(query,para))"
   ]
  },
  {
   "cell_type": "markdown",
   "id": "432275df",
   "metadata": {},
   "source": [
    "#### <font color='orange'>h- participatedIn:"
   ]
  },
  {
   "cell_type": "code",
   "execution_count": null,
   "id": "c41637fe",
   "metadata": {},
   "outputs": [],
   "source": [
    "# retrieve the data from Mongodb DB\n",
    "docs = missions.find()\n",
    "\n",
    "for doc in docs:\n",
    "    if 'agents' in doc:\n",
    "        for acode in doc['agents']:\n",
    "            query = '''\n",
    "                                    MATCH (m:missions{mid:$mid})\n",
    "                                    MATCH (a:Agent{acode:$acode})\n",
    "                                    MERGE (a)-[r:participatedIn]->(m)\n",
    "                                    RETURN r\n",
    "                                '''\n",
    "            para = {\n",
    "                                'mid': doc['mid'],\n",
    "                                'acode': acode\n",
    "                                }\n",
    "\n",
    "            print(run_query(query,para))"
   ]
  },
  {
   "cell_type": "markdown",
   "id": "e2ff7859",
   "metadata": {},
   "source": [
    "#### <font color='orange'>i- usedIn:"
   ]
  },
  {
   "cell_type": "code",
   "execution_count": null,
   "id": "fa94ea6c",
   "metadata": {},
   "outputs": [],
   "source": [
    "# retrieve the data from Mongodb DB\n",
    "docs = missions.find()\n",
    "\n",
    "for doc in docs:\n",
    "    if 'assets' in doc:\n",
    "        for asid in doc['assets']:\n",
    "            query = '''\n",
    "                                    MATCH (m:missions{mid:$mid})\n",
    "                                    MATCH (a:assets{asid:$asid})\n",
    "                                    MERGE (a)-[r:usedIn]->(m)\n",
    "                                    RETURN r\n",
    "                                '''\n",
    "            para = {\n",
    "                                'mid': doc['mid'],\n",
    "                                'asid': asid\n",
    "                                }\n",
    "\n",
    "            print(run_query(query,para))"
   ]
  },
  {
   "cell_type": "markdown",
   "id": "533e9670",
   "metadata": {},
   "source": [
    "#### <font color='orange'>j- targeted:"
   ]
  },
  {
   "cell_type": "code",
   "execution_count": null,
   "id": "e0ea0978",
   "metadata": {},
   "outputs": [],
   "source": [
    "# retrieve the data from Mongodb DB \n",
    "docs = missions.find()\n",
    "\n",
    "for doc in docs:\n",
    "    if 'tid' in doc:\n",
    "        query = '''\n",
    "                MATCH (m:missions{mid:$mid})\n",
    "                MATCH (t:targets{tid:$tid})\n",
    "                MERGE (m)-[r:targeted]->(t)\n",
    "                RETURN r\n",
    "            '''\n",
    "        para = {\n",
    "                'mid': doc['mid'],\n",
    "                'tid': doc['tid']\n",
    "            }\n",
    "\n",
    "        print(run_query(query,para))"
   ]
  },
  {
   "cell_type": "markdown",
   "id": "cf8f6dea",
   "metadata": {},
   "source": [
    "## Queries:"
   ]
  },
  {
   "cell_type": "markdown",
   "id": "85e7b291",
   "metadata": {},
   "source": [
    "### A- PostgreSQL Queries:"
   ]
  },
  {
   "cell_type": "markdown",
   "id": "24576416",
   "metadata": {},
   "source": [
    "##### <font color='majenta'>1- Retrieve Agent Information:"
   ]
  },
  {
   "cell_type": "code",
   "execution_count": null,
   "id": "9979e18e",
   "metadata": {},
   "outputs": [],
   "source": [
    "%%time\n",
    "query = \"SELECT * FROM agents WHERE fname = 'Sonia';\"\n",
    "\n",
    "cur = conn.cursor()\n",
    "cur.execute(query)\n",
    "rows = cur.fetchall()\n",
    "\n",
    "for row in rows:\n",
    "    print(row)\n",
    "\n",
    "cur.close() "
   ]
  },
  {
   "cell_type": "markdown",
   "id": "0e831b80",
   "metadata": {},
   "source": [
    "##### <font color='majenta'>2- List Ongoing Missions:"
   ]
  },
  {
   "cell_type": "code",
   "execution_count": null,
   "id": "f19405b8",
   "metadata": {},
   "outputs": [],
   "source": [
    "%%time\n",
    "para = \"ongoing\"\n",
    "query = 'SELECT * FROM missions WHERE mstatus = %s;'\n",
    "\n",
    "cur = conn.cursor()\n",
    "cur.execute(query, (para,))\n",
    "rows = cur.fetchall()\n",
    "\n",
    "for row in rows:\n",
    "    print(row)\n",
    "\n",
    "cur.close() "
   ]
  },
  {
   "cell_type": "markdown",
   "id": "794cfd89",
   "metadata": {},
   "source": [
    "##### <font color='majenta'>3- Get Contact Information for a Specific agent:"
   ]
  },
  {
   "cell_type": "code",
   "execution_count": null,
   "id": "54bdb29a",
   "metadata": {},
   "outputs": [],
   "source": [
    "%%time\n",
    "query = 'SELECT * FROM contacts WHERE acode = 2008;'\n",
    "\n",
    "cur = conn.cursor()\n",
    "cur.execute(query)\n",
    "rows = cur.fetchall()\n",
    "\n",
    "for row in rows:\n",
    "    print(row)\n",
    "\n",
    "cur.close()"
   ]
  },
  {
   "cell_type": "markdown",
   "id": "915be3b8",
   "metadata": {},
   "source": [
    "##### <font color='majenta'>4- List Missions Assigned to a Specific Agent:"
   ]
  },
  {
   "cell_type": "code",
   "execution_count": null,
   "id": "d99a74ac",
   "metadata": {},
   "outputs": [],
   "source": [
    "%%time\n",
    "query = 'SELECT * FROM participate_in WHERE acode = 10;'\n",
    "\n",
    "cur = conn.cursor()\n",
    "cur.execute(query)\n",
    "rows = cur.fetchall()\n",
    "\n",
    "for row in rows:\n",
    "    print(row)\n",
    "\n",
    "cur.close()"
   ]
  },
  {
   "cell_type": "markdown",
   "id": "7d8d1866",
   "metadata": {},
   "source": [
    "##### <font color='majenta'>5- Retrieve Completed Missions:"
   ]
  },
  {
   "cell_type": "code",
   "execution_count": null,
   "id": "c3551757",
   "metadata": {},
   "outputs": [],
   "source": [
    "%%time\n",
    "para = 'completed'\n",
    "query = 'SELECT mid FROM missions WHERE mstatus = %s;'\n",
    "\n",
    "cur = conn.cursor()\n",
    "cur.execute(query, (para,))\n",
    "rows = cur.fetchall()\n",
    "\n",
    "for row in rows:\n",
    "    print(row)\n",
    "\n",
    "cur.close() "
   ]
  },
  {
   "cell_type": "markdown",
   "id": "c00f458d",
   "metadata": {},
   "source": [
    "##### <font color='majenta'>6 - Find all missions a specific asset is used for:"
   ]
  },
  {
   "cell_type": "code",
   "execution_count": null,
   "id": "9f55b270",
   "metadata": {},
   "outputs": [],
   "source": [
    "%%time\n",
    "para = 'WA1VMAFE7BD052704'\n",
    "query = 'SELECT used_in.mid FROM used_in, assets WHERE assets.astag = %s AND used_in.asid = assets.asid;'\n",
    "\n",
    "cur = conn.cursor()\n",
    "cur.execute(query, (para,))\n",
    "rows = cur.fetchall()\n",
    "\n",
    "for row in rows:\n",
    "    print(row)\n",
    "\n",
    "cur.close() "
   ]
  },
  {
   "cell_type": "markdown",
   "id": "7b415322",
   "metadata": {},
   "source": [
    "##### <font color='majenta'>7- Count the Number of Missions for Each agent:"
   ]
  },
  {
   "cell_type": "code",
   "execution_count": null,
   "id": "9282ed89",
   "metadata": {},
   "outputs": [],
   "source": [
    "%%time\n",
    "query = 'SELECT acode, COUNT(acode) AS number_of_missions FROM participate_in GROUP BY acode ORDER BY number_of_missions DESC;'\n",
    "\n",
    "cur = conn.cursor()\n",
    "cur.execute(query)\n",
    "rows = cur.fetchall()\n",
    "\n",
    "for row in rows:\n",
    "    print(row)\n",
    "\n",
    "cur.close() "
   ]
  },
  {
   "cell_type": "markdown",
   "id": "6d3315d0",
   "metadata": {},
   "source": [
    "##### <font color='majenta'>8- List Agents who are qualified (based on a set of skills) that are suitable for a mission,agent who fluent in  mandarin chinese languages, has high skill and knowledge in legal acumen:"
   ]
  },
  {
   "cell_type": "code",
   "execution_count": null,
   "id": "29155bde",
   "metadata": {},
   "outputs": [],
   "source": [
    "%%time\n",
    "skill_types = ['mandarin chinese', 'legal acumen']\n",
    "min_skill_level = 3\n",
    "num_skill_types = len(skill_types)\n",
    "query = \"\"\"\n",
    "            SELECT has.acode \n",
    "            FROM has\n",
    "            INNER JOIN skills ON has.skill_code = skills.skill_code\n",
    "            WHERE skills.skill_type IN ({})\n",
    "            AND skills.skill_level > %s\n",
    "            GROUP BY has.acode\n",
    "            HAVING COUNT(DISTINCT skills.skill_type) = %s\n",
    "        \"\"\".format(', '.join(['%s'] * num_skill_types))\n",
    "\n",
    "para = tuple(skill_types + [min_skill_level, num_skill_types])\n",
    "cur = conn.cursor()\n",
    "cur.execute(query, para)\n",
    "results = cur.fetchall()\n",
    "\n",
    "for row in results:\n",
    "    print(row)\n",
    "\n",
    "cur.close()"
   ]
  },
  {
   "cell_type": "markdown",
   "id": "6df603b6",
   "metadata": {},
   "source": [
    "##### <font color='majenta'>9- Retrieve Missions Within a Date Range:"
   ]
  },
  {
   "cell_type": "code",
   "execution_count": null,
   "id": "e74ca826",
   "metadata": {},
   "outputs": [],
   "source": [
    "%%time\n",
    "start_date = '2010-01-01'\n",
    "end_date = '2010-12-31'\n",
    "query = \"\"\"\n",
    "            SELECT * \n",
    "            FROM missions \n",
    "            WHERE start_date BETWEEN %s AND %s\n",
    "            ORDER BY start_date;\n",
    "        \"\"\"\n",
    "params = (start_date, end_date)\n",
    "\n",
    "cur = conn.cursor()\n",
    "cur.execute(query, params)\n",
    "results = cur.fetchall()\n",
    "\n",
    "for row in results:\n",
    "    print(row)\n",
    "\n",
    "cur.close()"
   ]
  },
  {
   "cell_type": "markdown",
   "id": "ad1f3869",
   "metadata": {},
   "source": [
    "##### <font color='majenta'>10- Find Assets Assigned to ongoing missions:"
   ]
  },
  {
   "cell_type": "code",
   "execution_count": null,
   "id": "45e4bf68",
   "metadata": {},
   "outputs": [],
   "source": [
    "%%time\n",
    "query = \"\"\"\n",
    "            SELECT used_in.asid\n",
    "            FROM used_in\n",
    "            INNER JOIN missions ON used_in.mid = missions.mid\n",
    "            WHERE missions.mstatus = %s;\n",
    "        \"\"\"\n",
    "mstatus = 'ongoing'\n",
    "\n",
    "cur = conn.cursor()\n",
    "cur.execute(query, (mstatus,))\n",
    "results = cur.fetchall()\n",
    "\n",
    "for row in results:\n",
    "    print(row)\n",
    "\n",
    "cur.close()"
   ]
  },
  {
   "cell_type": "markdown",
   "id": "c939e2da",
   "metadata": {},
   "source": [
    "##### <font color='majenta'>11- List Missions Involving Multiple Agents:"
   ]
  },
  {
   "cell_type": "code",
   "execution_count": null,
   "id": "54778523",
   "metadata": {},
   "outputs": [],
   "source": [
    "%%time\n",
    "query = 'SELECT mid, COUNT(acode) FROM participate_in GROUP BY mid HAVING COUNT(acode) > 1 ORDER BY mid;'\n",
    "\n",
    "cur = conn.cursor()\n",
    "cur.execute(query)\n",
    "rows = cur.fetchall()\n",
    "\n",
    "for row in rows:\n",
    "    print(row)\n",
    "\n",
    "cur.close() "
   ]
  },
  {
   "cell_type": "markdown",
   "id": "fa02d6ff",
   "metadata": {},
   "source": [
    "##### <font color='majenta'>12- find the agent who used a certain secret identity in a specific region:"
   ]
  },
  {
   "cell_type": "code",
   "execution_count": null,
   "id": "a2cb709a",
   "metadata": {},
   "outputs": [],
   "source": [
    "%%time\n",
    "query = \"\"\"\n",
    "            SELECT acode\n",
    "            FROM secret_identities\n",
    "            WHERE sid_nationality = %s\n",
    "            AND sid_other_details = %s;\n",
    "        \"\"\"\n",
    "params = ('CN', '572-334-5595')\n",
    "\n",
    "cur = conn.cursor()\n",
    "cur.execute(query, params)\n",
    "results = cur.fetchall()\n",
    "\n",
    "for row in results:\n",
    "    print(row)\n",
    "\n",
    "cur.close()"
   ]
  },
  {
   "cell_type": "markdown",
   "id": "91cee441",
   "metadata": {},
   "source": [
    "##### <font color='majenta'>13- Find all personnel involved in the operation “144” who are currently 'active', speak Russian, and who lived in London in 2021. List their code names in this operation,agent's type as well as their current locations.:"
   ]
  },
  {
   "cell_type": "code",
   "execution_count": null,
   "id": "b216fc7d",
   "metadata": {},
   "outputs": [],
   "source": [
    "%%time\n",
    "query = \"\"\"\n",
    "            SELECT agents.acode, agents.agent_type, current_contacts.city\n",
    "            FROM agents\n",
    "            INNER JOIN participate_in ON participate_in.acode = agents.acode\n",
    "            INNER JOIN has ON has.acode = agents.acode\n",
    "            INNER JOIN contacts ON contacts.acode = agents.acode\n",
    "            INNER JOIN current_contacts ON current_contacts.acode = agents.acode\n",
    "            WHERE participate_in.mid = %s\n",
    "            AND agents.agent_status = %s\n",
    "            AND has.skill_code IN %s\n",
    "            AND contacts.city = %s\n",
    "            AND contacts.from_date BETWEEN %s AND %s;\n",
    "        \"\"\"\n",
    "\n",
    "# Define the parameters\n",
    "params = (\n",
    "            144,                     # mid\n",
    "            'active',                # agent_status\n",
    "            (43, 44, 45, 46, 47, 48),# skill_code list\n",
    "            'London',                # city\n",
    "            '2021-01-01',            # from_date\n",
    "            '2021-12-31'             # to_date\n",
    "        )\n",
    "\n",
    "cur = conn.cursor()\n",
    "cur.execute(query, params)\n",
    "results = cur.fetchall()\n",
    "\n",
    "for row in results:\n",
    "    print(row)\n",
    "\n",
    "cur.close()"
   ]
  },
  {
   "cell_type": "markdown",
   "id": "2d3b7de0",
   "metadata": {},
   "source": [
    "##### <font color='majenta'>14- find all the firearms that are out in the field in a region:"
   ]
  },
  {
   "cell_type": "code",
   "execution_count": null,
   "id": "7e316eb7",
   "metadata": {},
   "outputs": [],
   "source": [
    "%%time\n",
    "query = \"\"\"\n",
    "            SELECT assets.asid, assets.astype, assets.asmake\n",
    "            FROM assets\n",
    "            INNER JOIN used_in ON assets.asid = used_in.asid\n",
    "            INNER JOIN missions ON used_in.mid = missions.mid\n",
    "            WHERE missions.country = %s\n",
    "            AND assets.asstatus = %s;\n",
    "        \"\"\"\n",
    "\n",
    "# Define the parameters\n",
    "country = 'PL'\n",
    "asstatus = 'active'\n",
    "\n",
    "cur = conn.cursor()\n",
    "cur.execute(query, (country, asstatus))\n",
    "results = cur.fetchall()\n",
    "\n",
    "for row in results:\n",
    "    print(row)\n",
    "\n",
    "cur.close()"
   ]
  },
  {
   "cell_type": "code",
   "execution_count": null,
   "id": "74e4db1e",
   "metadata": {},
   "outputs": [],
   "source": [
    "# To close the connection of PostgreSQL\n",
    "conn.close()"
   ]
  },
  {
   "cell_type": "markdown",
   "id": "bd1ac439",
   "metadata": {},
   "source": [
    "### B- MongoDB Queries:"
   ]
  },
  {
   "cell_type": "markdown",
   "id": "9b09364e",
   "metadata": {},
   "source": [
    "##### <font color='majenta'>1- Retrieve Agent Information:"
   ]
  },
  {
   "cell_type": "code",
   "execution_count": null,
   "id": "a615d852",
   "metadata": {},
   "outputs": [],
   "source": [
    "%%time\n",
    "pipeline = [\n",
    "                {\n",
    "                    '$match': {\n",
    "                        'fname': 'Sonia'\n",
    "                    }\n",
    "                }\n",
    "          ]\n",
    "results = agents.aggregate(pipeline)\n",
    "\n",
    "for result in results:\n",
    "    print(result)"
   ]
  },
  {
   "cell_type": "markdown",
   "id": "8e191e68",
   "metadata": {},
   "source": [
    "##### <font color='majenta'>2- List Ongoing Missions:"
   ]
  },
  {
   "cell_type": "code",
   "execution_count": null,
   "id": "4aa2b777",
   "metadata": {},
   "outputs": [],
   "source": [
    "%%time\n",
    "pipeline = [\n",
    "                {\n",
    "                    '$match': {\n",
    "                        'mstatus': 'ongoing'\n",
    "                    }\n",
    "                }\n",
    "          ]\n",
    "results = missions.aggregate(pipeline)\n",
    "\n",
    "for result in results:\n",
    "    print(result)"
   ]
  },
  {
   "cell_type": "markdown",
   "id": "21f8aed6",
   "metadata": {},
   "source": [
    "##### <font color='majenta'>3- Get Contact Information for a Specific agent:"
   ]
  },
  {
   "cell_type": "code",
   "execution_count": null,
   "id": "e0a1fd74",
   "metadata": {},
   "outputs": [],
   "source": [
    "%%time\n",
    "pipeline = [\n",
    "                {\n",
    "                    '$match': {\n",
    "                        'acode': 2008\n",
    "                    }\n",
    "                }, {\n",
    "                    '$project': {\n",
    "                        'contacts': 1\n",
    "                    }\n",
    "                }\n",
    "          ]\n",
    "\n",
    "results = agents.aggregate(pipeline)\n",
    "\n",
    "for result in results:\n",
    "    print(result)"
   ]
  },
  {
   "cell_type": "markdown",
   "id": "a25fc322",
   "metadata": {},
   "source": [
    "##### <font color='majenta'>4- List Missions Assigned to a Specific Agent:"
   ]
  },
  {
   "cell_type": "code",
   "execution_count": null,
   "id": "831bd459",
   "metadata": {},
   "outputs": [],
   "source": [
    "%%time\n",
    "pipeline = [\n",
    "                {\n",
    "                    '$match': {\n",
    "                        'agents': 10\n",
    "                    }\n",
    "                }, {\n",
    "                    '$project': {\n",
    "                        'mission': '$mid'\n",
    "                    }\n",
    "                }\n",
    "          ]\n",
    "results = missions.aggregate(pipeline)\n",
    "\n",
    "for result in results:\n",
    "    print(result)"
   ]
  },
  {
   "cell_type": "markdown",
   "id": "a478a3dd",
   "metadata": {},
   "source": [
    "##### <font color='majenta'>5- Retrieve Completed Missions:"
   ]
  },
  {
   "cell_type": "code",
   "execution_count": null,
   "id": "f57f1ee6",
   "metadata": {},
   "outputs": [],
   "source": [
    "%%time\n",
    "pipeline = [\n",
    "                {\n",
    "                    '$match': {\n",
    "                        'mstatus': 'completed'\n",
    "                    }\n",
    "                }\n",
    "          ]\n",
    "results = missions.aggregate(pipeline)\n",
    "\n",
    "for result in results:\n",
    "    print(result)"
   ]
  },
  {
   "cell_type": "markdown",
   "id": "c25a89ef",
   "metadata": {},
   "source": [
    "##### <font color='majenta'>6 - Find all missions a specific asset is used for:"
   ]
  },
  {
   "cell_type": "code",
   "execution_count": null,
   "id": "504e9a17",
   "metadata": {},
   "outputs": [],
   "source": [
    "%%time\n",
    "pipeline = [\n",
    "                {\n",
    "                    '$unwind': {\n",
    "                        'path': '$assets'\n",
    "                    }\n",
    "                }, {\n",
    "                    '$lookup': {\n",
    "                        'from': 'assets', \n",
    "                        'localField': 'assets', \n",
    "                        'foreignField': 'asid', \n",
    "                        'as': 'assets'\n",
    "                    }\n",
    "                }, {\n",
    "                    '$project': {\n",
    "                        'mid': '$mid', \n",
    "                        'asset tag': '$assets.astag'\n",
    "                    }\n",
    "                }, {\n",
    "                    '$match': {\n",
    "                        'assets.astag': 'WA1VMAFE7BD052704'\n",
    "                    }\n",
    "                }\n",
    "          ]\n",
    "results = missions.aggregate(pipeline)\n",
    "\n",
    "for result in results:\n",
    "    print(result)"
   ]
  },
  {
   "cell_type": "markdown",
   "id": "99d194d9",
   "metadata": {},
   "source": [
    "##### <font color='majenta'>7- Count the Number of Missions for Each agent:"
   ]
  },
  {
   "cell_type": "code",
   "execution_count": null,
   "id": "a4373cff",
   "metadata": {},
   "outputs": [],
   "source": [
    "%%time\n",
    "pipeline = [\n",
    "                {\n",
    "                    '$unwind': {\n",
    "                        'path': '$agents'\n",
    "                    }\n",
    "                }, {\n",
    "                    '$group': {\n",
    "                        '_id': '$agents', \n",
    "                        'missions_count': {\n",
    "                            '$sum': 1\n",
    "                        }\n",
    "                    }\n",
    "                }\n",
    "          ]\n",
    "results = missions.aggregate(pipeline)\n",
    "\n",
    "for result in results:\n",
    "    print(result)"
   ]
  },
  {
   "cell_type": "markdown",
   "id": "f55a7c56",
   "metadata": {},
   "source": [
    "##### <font color='majenta'>8- List Agents who are qualified (based on a set of skills) that are suitable for a mission,agent who fluent in  mandarin chinese languages, has high skill and knowledge in legal acumen:"
   ]
  },
  {
   "cell_type": "code",
   "execution_count": null,
   "id": "f8d8a314",
   "metadata": {},
   "outputs": [],
   "source": [
    "%%time\n",
    "pipeline = [\n",
    "                {\n",
    "                    '$unwind': {\n",
    "                        'path': '$skills'\n",
    "                    }\n",
    "                }, {\n",
    "                    '$match': {\n",
    "                        'skills.skill_type': {\n",
    "                            '$in': [\n",
    "                                'mandarin chinese', 'legal acumen'\n",
    "                            ]\n",
    "                        }, \n",
    "                        'skills.skill_level': {\n",
    "                            '$gt': 3\n",
    "                        }\n",
    "                    }\n",
    "                }, {\n",
    "                    '$group': {\n",
    "                        '_id': '$acode', \n",
    "                        'count': {\n",
    "                            '$sum': 1\n",
    "                        }\n",
    "                    }\n",
    "                }, {\n",
    "                    '$match': {\n",
    "                        'count': 2\n",
    "                    }\n",
    "                }\n",
    "            ]\n",
    "\n",
    "results = agents.aggregate(pipeline)\n",
    "\n",
    "for result in results:\n",
    "    print(result)"
   ]
  },
  {
   "cell_type": "markdown",
   "id": "38d3598c",
   "metadata": {},
   "source": [
    "##### <font color='majenta'>9- Retrieve Missions Within a Date Range:"
   ]
  },
  {
   "cell_type": "code",
   "execution_count": null,
   "id": "3a99afd3",
   "metadata": {},
   "outputs": [],
   "source": [
    "%%time\n",
    "pipeline = [\n",
    "                {\n",
    "                    '$match': {\n",
    "                        'start_date': {\n",
    "                            '$gte': '2010-01-01'\n",
    "                        }, \n",
    "                        'end_date': {\n",
    "                            '$lte': '2010-12-31'\n",
    "                        }\n",
    "                    }\n",
    "                }\n",
    "            ]\n",
    "results = missions.aggregate(pipeline)\n",
    "\n",
    "for result in results:\n",
    "    print(result)"
   ]
  },
  {
   "cell_type": "markdown",
   "id": "f5e7ed6b",
   "metadata": {},
   "source": [
    "##### <font color='majenta'>10- Find Assets Assigned to ongoing missions:"
   ]
  },
  {
   "cell_type": "code",
   "execution_count": null,
   "id": "a21b67cf",
   "metadata": {},
   "outputs": [],
   "source": [
    "%%time\n",
    "pipeline = [\n",
    "                {\n",
    "                    '$match': {\n",
    "                        'mstatus': 'ongoing'\n",
    "                    }\n",
    "                }, {\n",
    "                    '$unwind': {\n",
    "                        'path': '$assets'\n",
    "                    }\n",
    "                }, {\n",
    "                    '$project': {\n",
    "                        'assets': '$assets'\n",
    "                    }\n",
    "                }\n",
    "            ]\n",
    "results = missions.aggregate(pipeline)\n",
    "\n",
    "for result in results:\n",
    "    print(result)"
   ]
  },
  {
   "cell_type": "markdown",
   "id": "4920b7c1",
   "metadata": {},
   "source": [
    "##### <font color='majenta'>11- List Missions Involving Multiple Agents:"
   ]
  },
  {
   "cell_type": "code",
   "execution_count": null,
   "id": "ac921fa9",
   "metadata": {},
   "outputs": [],
   "source": [
    "%%time\n",
    "pipeline = [\n",
    "                {\n",
    "                    '$unwind': {\n",
    "                        'path': '$agents'\n",
    "                    }\n",
    "                }, {\n",
    "                    '$group': {\n",
    "                        '_id': '$mid', \n",
    "                        'count': {\n",
    "                            '$sum': 1\n",
    "                        }\n",
    "                    }\n",
    "                }, {\n",
    "                    '$match': {\n",
    "                        'count': {\n",
    "                            '$gt': 1\n",
    "                        }\n",
    "                    }\n",
    "                }\n",
    "            ]\n",
    "results = missions.aggregate(pipeline)\n",
    "\n",
    "for result in results:\n",
    "    print(result)"
   ]
  },
  {
   "cell_type": "markdown",
   "id": "0e76c892",
   "metadata": {},
   "source": [
    "##### <font color='majenta'>12- find the agent who used a certain secret identity in a specific region:"
   ]
  },
  {
   "cell_type": "code",
   "execution_count": null,
   "id": "bbe207bd",
   "metadata": {},
   "outputs": [],
   "source": [
    "%%time\n",
    "pipeline = [\n",
    "                {\n",
    "                    '$unwind': {\n",
    "                        'path': '$secret_identities'\n",
    "                    }\n",
    "                }, {\n",
    "                    '$match': {\n",
    "                        'secret_identities.sid_other_details': '572-334-5595'\n",
    "                    }\n",
    "                }, {\n",
    "                    '$project': {\n",
    "                        'acode': '$acode'\n",
    "                    }\n",
    "                }\n",
    "            ]\n",
    "\n",
    "results = agents.aggregate(pipeline)\n",
    "\n",
    "for result in results:\n",
    "    print(result)"
   ]
  },
  {
   "cell_type": "markdown",
   "id": "49df9445",
   "metadata": {},
   "source": [
    "##### <font color='majenta'>13- Find all personnel involved in the operation “144” who are currently 'active', speak Russian, and who lived in London in 2021. List their code names in this operation,agent's type as well as their current locations.:"
   ]
  },
  {
   "cell_type": "code",
   "execution_count": null,
   "id": "87d30dff",
   "metadata": {},
   "outputs": [],
   "source": [
    "%%time\n",
    "pipeline = [\n",
    "                {\n",
    "                    '$match': {\n",
    "                        'mid': 144\n",
    "                    }\n",
    "                }, {\n",
    "                    '$unwind': {\n",
    "                        'path': '$agents'\n",
    "                    }\n",
    "                }, {\n",
    "                    '$lookup': {\n",
    "                        'from': 'agents', \n",
    "                        'localField': 'agents', \n",
    "                        'foreignField': 'acode', \n",
    "                        'as': 'agent info'\n",
    "                    }\n",
    "                }, {\n",
    "                    '$project': {\n",
    "                        'agent': '$agent info'\n",
    "                    }\n",
    "                }, {\n",
    "                    '$match': {\n",
    "                        'agent.agent_status': 'active', \n",
    "                        'agent.skills.skill_type': 'russian', \n",
    "                        'agent.contacts.city': 'London', \n",
    "                        'agent.contacts.from_date': {\n",
    "                            '$gte': '2021-01-01', \n",
    "                            '$lte': '2021-12-31'\n",
    "                        }\n",
    "                    }\n",
    "                }, {\n",
    "                    '$project': {\n",
    "                        'acode': '$agent.acode', \n",
    "                        'agent type': '$agent.agent_type', \n",
    "                        'city': {\n",
    "                            '$cond': {\n",
    "                                'if': {\n",
    "                                    '$eq': [\n",
    "                                        '$agent.contacts.to_date', None\n",
    "                                    ]\n",
    "                                }, \n",
    "                                'then': '$agent.contacts.city', \n",
    "                                'else': '$$REMOVE'\n",
    "                            }\n",
    "                        }\n",
    "                    }\n",
    "                }\n",
    "            ]\n",
    "results = missions.aggregate(pipeline)\n",
    "\n",
    "for result in results:\n",
    "    print(result)"
   ]
  },
  {
   "cell_type": "markdown",
   "id": "9199581e",
   "metadata": {},
   "source": [
    "##### <font color='majenta'>14- find all the firearms that are out in the field in a region:"
   ]
  },
  {
   "cell_type": "code",
   "execution_count": null,
   "id": "015b3ac9",
   "metadata": {},
   "outputs": [],
   "source": [
    "%%time\n",
    "pipeline = [\n",
    "                {\n",
    "                    '$match': {\n",
    "                        'country': 'PL', \n",
    "                        'mstatus': 'active'\n",
    "                    }\n",
    "                }, {\n",
    "                    '$unwind': {\n",
    "                        'path': '$assets'\n",
    "                    }\n",
    "                }, {\n",
    "                    '$lookup': {\n",
    "                        'from': 'assets', \n",
    "                        'localField': 'assets', \n",
    "                        'foreignField': 'asid', \n",
    "                        'as': 'assets'\n",
    "                    }\n",
    "                }, {\n",
    "                    '$project': {\n",
    "                        'asid': '$assets.asid', \n",
    "                        'astype': '$assets.astype', \n",
    "                        'asmake': '$assets.asmake'\n",
    "                    }\n",
    "                }\n",
    "            ]\n",
    "results = missions.aggregate(pipeline)\n",
    "\n",
    "for result in results:\n",
    "    print(result)"
   ]
  },
  {
   "cell_type": "code",
   "execution_count": null,
   "id": "b6f2ef64",
   "metadata": {},
   "outputs": [],
   "source": [
    "# to close the connection of MongoDB\n",
    "client.close()"
   ]
  },
  {
   "cell_type": "markdown",
   "id": "b41e283e",
   "metadata": {},
   "source": [
    "### Neo4j Queries:"
   ]
  },
  {
   "cell_type": "markdown",
   "id": "6902d59a",
   "metadata": {},
   "source": [
    "##### <font color='majenta'>1- Retrieve Agent Information:"
   ]
  },
  {
   "cell_type": "code",
   "execution_count": null,
   "id": "b30a354b",
   "metadata": {},
   "outputs": [],
   "source": [
    "%%time\n",
    "query = \"\"\"\n",
    "            MATCH (a:Agent {fname: 'Sonia'})\n",
    "            RETURN a\n",
    "        \"\"\"\n",
    "\n",
    "result = run_query(query)\n",
    "\n",
    "print(result)"
   ]
  },
  {
   "cell_type": "markdown",
   "id": "203510f1",
   "metadata": {},
   "source": [
    "##### <font color='majenta'>2- List Ongoing Missions:"
   ]
  },
  {
   "cell_type": "code",
   "execution_count": null,
   "id": "e96b4ac7",
   "metadata": {},
   "outputs": [],
   "source": [
    "%%time\n",
    "query = \"\"\"\n",
    "            MATCH (m:missions{mstatus:'ongoing'}) RETURN m.mid;\n",
    "        \"\"\"\n",
    "\n",
    "result = run_query(query)\n",
    "\n",
    "print(result)"
   ]
  },
  {
   "cell_type": "markdown",
   "id": "ae9cae74",
   "metadata": {},
   "source": [
    "##### <font color='majenta'>3- Get Contact Information for a Specific agent:"
   ]
  },
  {
   "cell_type": "code",
   "execution_count": null,
   "id": "de265aac",
   "metadata": {},
   "outputs": [],
   "source": [
    "%%time\n",
    "query = \"\"\"\n",
    "            MATCH (a:Agent{acode:2008})-[:contacts]->(c:agentContacts) RETURN c;\n",
    "        \"\"\"\n",
    "\n",
    "result = run_query(query)\n",
    "\n",
    "print(result)"
   ]
  },
  {
   "cell_type": "markdown",
   "id": "c16f1b75",
   "metadata": {},
   "source": [
    "##### <font color='majenta'>4- List Missions Assigned to a Specific Agent:"
   ]
  },
  {
   "cell_type": "code",
   "execution_count": null,
   "id": "86d5c18d",
   "metadata": {},
   "outputs": [],
   "source": [
    "%%time\n",
    "query = \"\"\"\n",
    "            MATCH (a:Agent{acode:10})-[p:participatedIn]-(m:missions) RETURN m.mid;\n",
    "        \"\"\"\n",
    "\n",
    "result = run_query(query)\n",
    "\n",
    "print(result)"
   ]
  },
  {
   "cell_type": "markdown",
   "id": "0cf4c4a8",
   "metadata": {},
   "source": [
    "##### <font color='majenta'>5- Retrieve Completed Missions:"
   ]
  },
  {
   "cell_type": "code",
   "execution_count": null,
   "id": "5ee88df6",
   "metadata": {},
   "outputs": [],
   "source": [
    "%%time\n",
    "query = \"\"\"\n",
    "            MATCH (m:missions{mstatus:'active'}) RETURN m;\n",
    "        \"\"\"\n",
    "\n",
    "result = run_query(query)\n",
    "\n",
    "print(result)"
   ]
  },
  {
   "cell_type": "markdown",
   "id": "2d6e92c0",
   "metadata": {},
   "source": [
    "##### <font color='majenta'>6 - Find all missions a specific asset is used for:"
   ]
  },
  {
   "cell_type": "code",
   "execution_count": null,
   "id": "212c1545",
   "metadata": {},
   "outputs": [],
   "source": [
    "%%time\n",
    "query = \"\"\"\n",
    "            MATCH (a:assets{astag:'WA1VMAFE7BD052704'})-[:usedIn]-(m:missions) RETURN m.mid;\n",
    "        \"\"\"\n",
    "\n",
    "result = run_query(query)\n",
    "\n",
    "print(result)"
   ]
  },
  {
   "cell_type": "markdown",
   "id": "edc29508",
   "metadata": {},
   "source": [
    "##### <font color='majenta'>7- Count the Number of Missions for Each agent:"
   ]
  },
  {
   "cell_type": "code",
   "execution_count": null,
   "id": "27552764",
   "metadata": {},
   "outputs": [],
   "source": [
    "%%time\n",
    "query = \"\"\"\n",
    "            MATCH (a:Agent)-[:participatedIn]-(m:missions) RETURN a.acode AS agent, COUNT(m) AS number_of_missions ORDER BY agent ASC;\n",
    "        \"\"\"\n",
    "\n",
    "result = run_query(query)\n",
    "\n",
    "print(result)"
   ]
  },
  {
   "cell_type": "markdown",
   "id": "6a7fab8d",
   "metadata": {},
   "source": [
    "##### <font color='majenta'>8- List Agents who are qualified (based on a set of skills) that are suitable for a mission,agent who fluent in  mandarin chinese languages, has high skill and knowledge in legal acumen:"
   ]
  },
  {
   "cell_type": "code",
   "execution_count": null,
   "id": "e13b9264",
   "metadata": {},
   "outputs": [],
   "source": [
    "%%time\n",
    "query = \"\"\"\n",
    "            MATCH (a:Agent)-[r:has]-(:skill) WHERE r.skill_type IN ['mandarin chinese','legal acumen'] AND r.skill_level > 3  RETURN a.acode;\n",
    "        \"\"\"\n",
    "\n",
    "result = run_query(query)\n",
    "\n",
    "print(result)"
   ]
  },
  {
   "cell_type": "markdown",
   "id": "83eaf8a6",
   "metadata": {},
   "source": [
    "##### <font color='majenta'>9- Retrieve Missions Within a Date Range:"
   ]
  },
  {
   "cell_type": "code",
   "execution_count": null,
   "id": "768a61c6",
   "metadata": {},
   "outputs": [],
   "source": [
    "%%time\n",
    "query = \"\"\"\n",
    "            MATCH (m:missions) WHERE m.start_date > '2010-01-01' AND m.end_date < '2010-12-31' RETURN m.mid AS missions;\n",
    "        \"\"\"\n",
    "\n",
    "result = run_query(query)\n",
    "\n",
    "print(result)"
   ]
  },
  {
   "cell_type": "markdown",
   "id": "60465c4e",
   "metadata": {},
   "source": [
    "##### <font color='majenta'>10- Find Assets Assigned to ongoing missions:"
   ]
  },
  {
   "cell_type": "code",
   "execution_count": null,
   "id": "dbe11afe",
   "metadata": {},
   "outputs": [],
   "source": [
    "%%time\n",
    "query = \"\"\"\n",
    "            MATCH (m:missions{mstatus: 'ongoing'})-[r:usedIn]-(a:assets) RETURN a.asid AS assetId;\n",
    "        \"\"\"\n",
    "\n",
    "result = run_query(query)\n",
    "\n",
    "print(result)"
   ]
  },
  {
   "cell_type": "markdown",
   "id": "bff9cc7b",
   "metadata": {},
   "source": [
    "##### <font color='majenta'>11- List Missions Involving Multiple Agents:"
   ]
  },
  {
   "cell_type": "code",
   "execution_count": null,
   "id": "a49e58be",
   "metadata": {},
   "outputs": [],
   "source": [
    "%%time\n",
    "query = \"\"\"\n",
    "            MATCH (m:missions)-[r:participatedIn]-(a:Agent) WITH m,COUNT(DISTINCT a.acode) AS agents WHERE agents > 1 RETURN m.mid, agents;\n",
    "        \"\"\"\n",
    "\n",
    "result = run_query(query)\n",
    "\n",
    "print(result)"
   ]
  },
  {
   "cell_type": "markdown",
   "id": "b099d7df",
   "metadata": {},
   "source": [
    "##### <font color='majenta'>12- find the agent who used a certain secret identity in a specific region:"
   ]
  },
  {
   "cell_type": "code",
   "execution_count": null,
   "id": "0e66c38a",
   "metadata": {},
   "outputs": [],
   "source": [
    "%%time\n",
    "query = \"\"\"\n",
    "            MATCH (a:Agent)-[r:HasSid]-(s:SecretIdentities{sid_other_details:'572-334-5595'}) RETURN a.acode AS agentCode;\n",
    "        \"\"\"\n",
    "\n",
    "result = run_query(query)\n",
    "\n",
    "print(result)"
   ]
  },
  {
   "cell_type": "markdown",
   "id": "da62393d",
   "metadata": {},
   "source": [
    "##### <font color='majenta'>13- Find all personnel involved in the operation “144” who are currently 'active', speak Russian, and who lived in London in 2021. List their code names in this operation,agent's type as well as their current locations:"
   ]
  },
  {
   "cell_type": "code",
   "execution_count": null,
   "id": "0dbd53b9",
   "metadata": {},
   "outputs": [],
   "source": [
    "%%time\n",
    "query = \"\"\"\n",
    "            MATCH (a:Agent{agent_status: 'active'})-[:participatedIn]-(:missions{mid: 144})\n",
    "            MATCH (a)-[:has{skill_type: 'russian'}]-(:skill)\n",
    "            MATCH (a)-[:contacts]-(:agentContacts{city: 'London'})\n",
    "            MATCH (a)-[:contacts]-(r:agentContacts{to_date: 'null'})\n",
    "            WITH a,r\n",
    "            RETURN a.acode, a.agent_type, r.city;\n",
    "        \"\"\"\n",
    "\n",
    "result = run_query(query)\n",
    "\n",
    "print(result)"
   ]
  },
  {
   "cell_type": "markdown",
   "id": "92e1cef4",
   "metadata": {},
   "source": [
    "##### <font color='majenta'>14- find all the firearms that are out in the field in a region:"
   ]
  },
  {
   "cell_type": "code",
   "execution_count": null,
   "id": "d225eee4",
   "metadata": {},
   "outputs": [],
   "source": [
    "%%time\n",
    "query = \"\"\"\n",
    "            MATCH (m:missions{country: 'PL', mstatus: 'active'})-[r:usedIn]-(a:assets) RETURN a.asid, a.astype, a.asmake;\n",
    "        \"\"\"\n",
    "\n",
    "result = run_query(query)\n",
    "\n",
    "print(result)"
   ]
  },
  {
   "cell_type": "code",
   "execution_count": null,
   "id": "16855e2e",
   "metadata": {},
   "outputs": [],
   "source": [
    "# to close the connection of Neo4j\n",
    "driver.close()"
   ]
  },
  {
   "cell_type": "markdown",
   "id": "06d72721",
   "metadata": {},
   "source": [
    "### Performance Measure (Time):"
   ]
  },
  {
   "cell_type": "markdown",
   "id": "81683184",
   "metadata": {},
   "source": [
    "In this test the used time values are the needed to run the query without the CPU time. <font color='Red'> Note: for Q1 in Neo4j I change the time to 1000 because it is too high value (7008.8), and for I elemenated Q6 because it reaches the time out for MongoDB."
   ]
  },
  {
   "cell_type": "code",
   "execution_count": 2,
   "id": "e9f66f37",
   "metadata": {},
   "outputs": [
    {
     "data": {
      "image/png": "[encoded data removed]",
      "text/plain": [
       "<Figure size 640x480 with 1 Axes>"
      ]
     },
     "metadata": {},
     "output_type": "display_data"
    }
   ],
   "source": [
    "import matplotlib.pyplot as plt\n",
    "\n",
    "# Queries\n",
    "Queries = ['Q1', 'Q2', 'Q3', 'Q4', 'Q5', 'Q7', 'Q8', 'Q9', 'Q10', 'Q11', 'Q12', 'Q13', 'Q14']\n",
    "\n",
    "# Time spent for each query in each database\n",
    "postgresqlT = [76.9, 18.7, 20.7, 21.5, 0.9, 68.5, 35.5, 17.6, 18.6, 12.2, 8, 47.9, 15]\n",
    "mongodbT = [184, 131, 41.9, 46.1, 360, 311.2, 74.4, 31.5, 124.4, 256, 50, 183, 617]\n",
    "neo4jT = [1000, 557.8, 405.4, 331, 197.8, 891, 636.8, 237, 200.1, 716.1, 308, 1028.8, 163.4]\n",
    "\n",
    "# Set the width of the bars\n",
    "bar_width = 0.25\n",
    "\n",
    "# Set the positions of the bars on the x-axis\n",
    "x = range(len(Queries))\n",
    "\n",
    "# Plot the bar graphs\n",
    "plt.bar(x, postgresqlT, width=bar_width, label='PostgreSQL')\n",
    "plt.bar([i + bar_width for i in x], mongodbT, width=bar_width, label='MongoDB')\n",
    "plt.bar([i + 2 * bar_width for i in x], neo4jT, width=bar_width, label='Neo4j')\n",
    "\n",
    "# Add labels and title\n",
    "plt.xlabel('Queries')\n",
    "plt.ylabel('Time (ms)')\n",
    "plt.title('Time Spent on Queries for Different Databases')\n",
    "plt.xticks([i + bar_width for i in x], Queries)\n",
    "plt.legend()\n",
    "\n",
    "# Show plot\n",
    "plt.show()\n"
   ]
  },
  {
   "cell_type": "markdown",
   "id": "6639f46a",
   "metadata": {},
   "source": [
    "### Conclusion:"
   ]
  },
  {
   "cell_type": "markdown",
   "id": "3b248499",
   "metadata": {},
   "source": [
    "After conducting a comprehensive comparative analysis for PostgreSQL, MongoDB, and Neo4j, it is evident that each database system offers unique strengths and capabilities tailored to specific use cases and requirements. It's evident from our study that PostgreSQL outperforms the other databases in terms of query speed, despite MongoDB being in close competition. It's worth noting that MongoDB is accessed remotely, while PostgreSQL and Neo4j are local, which may have influenced the results. In terms of data modeling, Neo4j emerges as the most user-friendly option, offering greater flexibility and simplicity compared to MongoDB. Although MongoDB provides considerable flexibility, Neo4j's intuitive approach stands out. Additionally, Neo4j's query language is notably more straightforward and logically organized, enhancing its usability compared to PostgreSQL and MongoDB."
   ]
  }
 ],
 "metadata": {
  "kernelspec": {
   "display_name": "Python 3 (ipykernel)",
   "language": "python",
   "name": "python3"
  },
  "language_info": {
   "codemirror_mode": {
    "name": "ipython",
    "version": 3
   },
   "file_extension": ".py",
   "mimetype": "text/x-python",
   "name": "python",
   "nbconvert_exporter": "python",
   "pygments_lexer": "ipython3",
   "version": "3.11.5"
  }
 },
 "nbformat": 4,
 "nbformat_minor": 5
}
